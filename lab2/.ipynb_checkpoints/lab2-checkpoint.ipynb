{
 "cells": [
  {
   "cell_type": "code",
   "execution_count": 13,
   "metadata": {},
   "outputs": [],
   "source": [
    "import pandas as pd\n",
    "import numpy as np\n",
    "from random import randint"
   ]
  },
  {
   "cell_type": "code",
   "execution_count": 134,
   "metadata": {},
   "outputs": [],
   "source": [
    "CH_groups_max_len = 20\n",
    "\n",
    "groups = pd.DataFrame(np.array([\n",
    "    ['-SO4Na', 35.7, 'head'],\n",
    "    ['-CO2K', 21.1, 'head'],\n",
    "    ['-CO2Na', 19.1,' head'],\n",
    "    ['-H2N', 9.4, 'head'],\n",
    "    ['-NH-', 9.4, 'tail'],\n",
    "    ['-CO2H', 2.1, 'head'],\n",
    "    ['-OH', 1.9, 'head'],\n",
    "    ['-O-', 1.3, 'tail'],\n",
    "    ['-CF3-', -0.87, 'tail'],\n",
    "    ['-CF2-', -0.87, 'tail'],\n",
    "    ['CH3-', -0.475, 'last'],\n",
    "    ['-CH2-', -0.475, 'main'],\n",
    "    \n",
    "]), columns=['name', 'glb', 'type'])\n",
    "GLB = lambda x: np.sum(x) + 7"
   ]
  },
  {
   "cell_type": "code",
   "execution_count": 135,
   "metadata": {},
   "outputs": [],
   "source": [
    "class mol:\n",
    "    def __init__ (self, main_groups_num, tail_groups_num):\n",
    "        heads = groups.loc[groups['type'] == 'head']\n",
    "        tails = groups.loc[groups['type'] == 'tail']\n",
    "        tail_group = []\n",
    "\n",
    "        for i in range(tail_groups_num):\n",
    "            tail_group.append(tails.sample(1).iloc[0,0])\n",
    "        self.last_group = ['CH3-']\n",
    "        self.main_group =  ['-CH2-'] * main_groups_num\n",
    "        self.tail_group = np.sort(tail_group).tolist()\n",
    "        self.head_group = [heads.sample(1).iloc[0,0]]\n",
    "        self.formula = self.last_group + self.main_group + self.tail_group + self.head_group\n",
    "        \n",
    "    def mutation(self, other_mol)"
   ]
  },
  {
   "cell_type": "code",
   "execution_count": 141,
   "metadata": {},
   "outputs": [
    {
     "data": {
      "text/plain": [
       "['CH3-',\n",
       " '-CH2-',\n",
       " '-CH2-',\n",
       " '-CH2-',\n",
       " '-CH2-',\n",
       " '-CH2-',\n",
       " '-CF2-',\n",
       " '-CF3-',\n",
       " '-NH-',\n",
       " '-NH-',\n",
       " '-O-',\n",
       " '-SO4Na']"
      ]
     },
     "execution_count": 141,
     "metadata": {},
     "output_type": "execute_result"
    }
   ],
   "source": [
    "m = mol(5,5)\n",
    "m.formula"
   ]
  },
  {
   "cell_type": "code",
   "execution_count": 104,
   "metadata": {},
   "outputs": [],
   "source": [
    "def generate_mol(groups):\n",
    "    tail_groups_num = randint(0, 5)\n",
    "    main_groups_num = randint(1,20)\n",
    "    \n",
    "    heads = groups.loc[groups['type'] == 'head']\n",
    "    tails = groups.loc[groups['type'] == 'tail']\n",
    "    \n",
    "    head_group = [heads.sample(1).iloc[0,0]]\n",
    "    tail_group = []\n",
    "    \n",
    "    for i in range(tail_groups_num):\n",
    "        tail_group.append(tails.sample(1).iloc[0,0])\n",
    "    \n",
    "    last_group = ['CH3-']\n",
    "    \n",
    "    main_group =  ['-CH2-'] * main_groups_num\n",
    "    \n",
    "    return last_group + main_group + np.sort(tail_group).tolist() + head_group, main_groups_num, tail_groups_num"
   ]
  },
  {
   "cell_type": "code",
   "execution_count": null,
   "metadata": {},
   "outputs": [],
   "source": [
    "mutation"
   ]
  }
 ],
 "metadata": {
  "kernelspec": {
   "display_name": "Python 3",
   "language": "python",
   "name": "python3"
  },
  "language_info": {
   "codemirror_mode": {
    "name": "ipython",
    "version": 3
   },
   "file_extension": ".py",
   "mimetype": "text/x-python",
   "name": "python",
   "nbconvert_exporter": "python",
   "pygments_lexer": "ipython3",
   "version": "3.6.0"
  }
 },
 "nbformat": 4,
 "nbformat_minor": 2
}
